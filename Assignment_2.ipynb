{
  "nbformat": 4,
  "nbformat_minor": 0,
  "metadata": {
    "colab": {
      "name": "Assignment-2.ipynb",
      "provenance": [],
      "collapsed_sections": [],
      "include_colab_link": true
    },
    "kernelspec": {
      "name": "python3",
      "display_name": "Python 3"
    },
    "language_info": {
      "name": "python"
    }
  },
  "cells": [
    {
      "cell_type": "markdown",
      "metadata": {
        "id": "view-in-github",
        "colab_type": "text"
      },
      "source": [
        "<a href=\"https://colab.research.google.com/github/Sambit1708/DMDW_Lab/blob/main/Assignment_2.ipynb\" target=\"_parent\"><img src=\"https://colab.research.google.com/assets/colab-badge.svg\" alt=\"Open In Colab\"/></a>"
      ]
    },
    {
      "cell_type": "markdown",
      "metadata": {
        "id": "9bOf5Fo6_E_c"
      },
      "source": [
        "**1)** **Download a dataset from kaggle and upload it i google colab and perform any random function.** "
      ]
    },
    {
      "cell_type": "code",
      "metadata": {
        "colab": {
          "base_uri": "https://localhost:8080/"
        },
        "id": "zT53Y0cs6W7G",
        "outputId": "d9bad22a-03cb-4023-f3f6-c261eaf99258"
      },
      "source": [
        "from google.colab import drive\n",
        "drive.mount('/content/gdrive')"
      ],
      "execution_count": null,
      "outputs": [
        {
          "output_type": "stream",
          "name": "stdout",
          "text": [
            "Mounted at /content/gdrive\n"
          ]
        }
      ]
    },
    {
      "cell_type": "code",
      "metadata": {
        "id": "57LH7Rpm6xU1"
      },
      "source": [
        "root_path = 'gdrive/MyDrive/Colab Notebooks/'"
      ],
      "execution_count": null,
      "outputs": []
    },
    {
      "cell_type": "markdown",
      "metadata": {
        "id": "Iw0BD-S38LB-"
      },
      "source": [
        "**Import** **Libraries**"
      ]
    },
    {
      "cell_type": "code",
      "metadata": {
        "id": "6AyGF8yb8A6t"
      },
      "source": [
        "import pandas as pd\n",
        "import numpy as np"
      ],
      "execution_count": null,
      "outputs": []
    },
    {
      "cell_type": "code",
      "metadata": {
        "id": "oepFmifR8ZEo"
      },
      "source": [
        "data = pd.read_csv(root_path+'mcu_dataset.csv')"
      ],
      "execution_count": null,
      "outputs": []
    },
    {
      "cell_type": "code",
      "metadata": {
        "colab": {
          "base_uri": "https://localhost:8080/",
          "height": 518
        },
        "id": "5NIAgU0i8f4Y",
        "outputId": "fb024dac-6ab4-4c35-c6f4-7ebfd9883655"
      },
      "source": [
        "data.head()"
      ],
      "execution_count": null,
      "outputs": [
        {
          "output_type": "execute_result",
          "data": {
            "text/html": [
              "<div>\n",
              "<style scoped>\n",
              "    .dataframe tbody tr th:only-of-type {\n",
              "        vertical-align: middle;\n",
              "    }\n",
              "\n",
              "    .dataframe tbody tr th {\n",
              "        vertical-align: top;\n",
              "    }\n",
              "\n",
              "    .dataframe thead th {\n",
              "        text-align: right;\n",
              "    }\n",
              "</style>\n",
              "<table border=\"1\" class=\"dataframe\">\n",
              "  <thead>\n",
              "    <tr style=\"text-align: right;\">\n",
              "      <th></th>\n",
              "      <th>Name</th>\n",
              "      <th>US release Date</th>\n",
              "      <th>Director</th>\n",
              "      <th>Producer</th>\n",
              "      <th>Duration</th>\n",
              "      <th>Genre</th>\n",
              "      <th>IMDB rating</th>\n",
              "      <th>metascore</th>\n",
              "      <th>Cast</th>\n",
              "      <th>Budget</th>\n",
              "      <th>Domestic Gross</th>\n",
              "      <th>Total Gross</th>\n",
              "      <th>Opening Gross</th>\n",
              "      <th>Oscar Nomination</th>\n",
              "      <th>Oscar won</th>\n",
              "      <th>Phase</th>\n",
              "    </tr>\n",
              "  </thead>\n",
              "  <tbody>\n",
              "    <tr>\n",
              "      <th>0</th>\n",
              "      <td>Iron Man</td>\n",
              "      <td>May 2, 2008</td>\n",
              "      <td>Jon Favreau</td>\n",
              "      <td>Avi Arad and Kevin Feige</td>\n",
              "      <td>2h 6min</td>\n",
              "      <td>Action , Adventure, Sci-Fi</td>\n",
              "      <td>7.9</td>\n",
              "      <td>79</td>\n",
              "      <td>Robert Downey Jr. , Gweneth Paltrow , Terrence...</td>\n",
              "      <td>$140,000,000</td>\n",
              "      <td>$318,604,126</td>\n",
              "      <td>$585,366,247</td>\n",
              "      <td>$98,618,668</td>\n",
              "      <td>2</td>\n",
              "      <td>0</td>\n",
              "      <td>1</td>\n",
              "    </tr>\n",
              "    <tr>\n",
              "      <th>1</th>\n",
              "      <td>The incredible Hulk</td>\n",
              "      <td>June 13, 2008</td>\n",
              "      <td>Louis Leterrier</td>\n",
              "      <td>Avi Arad ,Gale Ann Hurd and Kevin Feige</td>\n",
              "      <td>1h 52min</td>\n",
              "      <td>Action , Adventure, Sci-Fi</td>\n",
              "      <td>6.6</td>\n",
              "      <td>61</td>\n",
              "      <td>Edward Norton , Liv Tyler , Tim Roth</td>\n",
              "      <td>$150,000,000</td>\n",
              "      <td>$134,806,913</td>\n",
              "      <td>$264,770,996</td>\n",
              "      <td>$55,414,050</td>\n",
              "      <td>0</td>\n",
              "      <td>0</td>\n",
              "      <td>1</td>\n",
              "    </tr>\n",
              "    <tr>\n",
              "      <th>2</th>\n",
              "      <td>Iron Man 2</td>\n",
              "      <td>May 7, 2010</td>\n",
              "      <td>Jon Favreau</td>\n",
              "      <td>Kevin Feige</td>\n",
              "      <td>2h 4min</td>\n",
              "      <td>Action , Adventure, Sci-Fi</td>\n",
              "      <td>7.0</td>\n",
              "      <td>57</td>\n",
              "      <td>Robert Downey Jr. , Gweneth Paltrow , Mickey R...</td>\n",
              "      <td>$200,000,000</td>\n",
              "      <td>$312,433,331</td>\n",
              "      <td>$623,933,331</td>\n",
              "      <td>$128,122,480</td>\n",
              "      <td>1</td>\n",
              "      <td>0</td>\n",
              "      <td>1</td>\n",
              "    </tr>\n",
              "    <tr>\n",
              "      <th>3</th>\n",
              "      <td>Thor</td>\n",
              "      <td>May 6, 2011</td>\n",
              "      <td>Kenneth Branagh</td>\n",
              "      <td>Kevin Feige</td>\n",
              "      <td>1h 55min</td>\n",
              "      <td>Action , Adventure, Fantasy</td>\n",
              "      <td>7.0</td>\n",
              "      <td>57</td>\n",
              "      <td>Chris Hemsworth , Anthony Hopkins , Natalie Po...</td>\n",
              "      <td>$150,000,000</td>\n",
              "      <td>$181,030,624</td>\n",
              "      <td>$449,326,618</td>\n",
              "      <td>$65,723,338</td>\n",
              "      <td>0</td>\n",
              "      <td>0</td>\n",
              "      <td>1</td>\n",
              "    </tr>\n",
              "    <tr>\n",
              "      <th>4</th>\n",
              "      <td>Captain America: The first Avenger</td>\n",
              "      <td>July 22, 2011</td>\n",
              "      <td>Joe Jhonston</td>\n",
              "      <td>Kevin Feige</td>\n",
              "      <td>2h 4min</td>\n",
              "      <td>Action , Adventure, Sci-Fi</td>\n",
              "      <td>6.9</td>\n",
              "      <td>66</td>\n",
              "      <td>Chris Evans ,  Hugo Weaving , Samuel L. Jackson</td>\n",
              "      <td>$140,000,000</td>\n",
              "      <td>$176,654,505</td>\n",
              "      <td>$370,569,774</td>\n",
              "      <td>$65,058,524</td>\n",
              "      <td>0</td>\n",
              "      <td>0</td>\n",
              "      <td>1</td>\n",
              "    </tr>\n",
              "  </tbody>\n",
              "</table>\n",
              "</div>"
            ],
            "text/plain": [
              "                                 Name US release Date  ... Oscar won Phase\n",
              "0                            Iron Man     May 2, 2008  ...         0     1\n",
              "1                 The incredible Hulk   June 13, 2008  ...         0     1\n",
              "2                          Iron Man 2     May 7, 2010  ...         0     1\n",
              "3                                Thor     May 6, 2011  ...         0     1\n",
              "4  Captain America: The first Avenger   July 22, 2011  ...         0     1\n",
              "\n",
              "[5 rows x 16 columns]"
            ]
          },
          "metadata": {},
          "execution_count": 5
        }
      ]
    },
    {
      "cell_type": "code",
      "metadata": {
        "colab": {
          "base_uri": "https://localhost:8080/"
        },
        "id": "HSyw8tVK8iMQ",
        "outputId": "81551914-a14f-4d5e-b0ef-c5279dd6fe3b"
      },
      "source": [
        "data.sum().isnull()"
      ],
      "execution_count": null,
      "outputs": [
        {
          "output_type": "execute_result",
          "data": {
            "text/plain": [
              "Name                False\n",
              "US release Date     False\n",
              "Director            False\n",
              "Producer            False\n",
              "Duration            False\n",
              "Genre               False\n",
              "IMDB rating         False\n",
              "metascore           False\n",
              "Cast                False\n",
              "Budget              False\n",
              "Domestic Gross      False\n",
              "Total Gross         False\n",
              "Opening Gross       False\n",
              "Oscar Nomination    False\n",
              "Oscar won           False\n",
              "Phase               False\n",
              "dtype: bool"
            ]
          },
          "metadata": {},
          "execution_count": 6
        }
      ]
    },
    {
      "cell_type": "code",
      "metadata": {
        "colab": {
          "base_uri": "https://localhost:8080/"
        },
        "id": "yPkPXHPs-4rH",
        "outputId": "03bbb316-1c7f-4128-b96c-f5e266d37591"
      },
      "source": [
        "data.count()"
      ],
      "execution_count": null,
      "outputs": [
        {
          "output_type": "execute_result",
          "data": {
            "text/plain": [
              "Name                23\n",
              "US release Date     23\n",
              "Director            23\n",
              "Producer            23\n",
              "Duration            23\n",
              "Genre               23\n",
              "IMDB rating         23\n",
              "metascore           23\n",
              "Cast                23\n",
              "Budget              23\n",
              "Domestic Gross      23\n",
              "Total Gross         23\n",
              "Opening Gross       23\n",
              "Oscar Nomination    23\n",
              "Oscar won           23\n",
              "Phase               23\n",
              "dtype: int64"
            ]
          },
          "metadata": {},
          "execution_count": 7
        }
      ]
    },
    {
      "cell_type": "code",
      "metadata": {
        "id": "doBC7q8B-_y_"
      },
      "source": [
        ""
      ],
      "execution_count": null,
      "outputs": []
    },
    {
      "cell_type": "markdown",
      "metadata": {
        "id": "qhy5San__jyC"
      },
      "source": [
        "**2.A) Defining three random array:** \n",
        "\n",
        "*1) One dimensional array*\n",
        "\n",
        "*2) Two dimensional array*\n",
        "\n",
        "*3) Three dimensional array*\n",
        "\n",
        "**Use numpy random number generate which we will seed with a set value inorder to ensure  the same random arrays are generated each time when this code is running**"
      ]
    },
    {
      "cell_type": "code",
      "metadata": {
        "colab": {
          "base_uri": "https://localhost:8080/"
        },
        "id": "Nvp-uErxA8Ki",
        "outputId": "d98ef7a7-6062-45cc-fd43-bfb96225ec2c"
      },
      "source": [
        "x1 = []\n",
        "x2 = [[]]\n",
        "x3 = [[[]]]\n",
        "np.random.seed(10)\n",
        "x1 = np.random.rand(10)\n",
        "np.random.seed(10)\n",
        "x2 = np.random.rand(4, 2)\n",
        "np.random.seed(10)\n",
        "x3 = np.random.rand( 2,2,2)\n",
        "print('One-Dimensional Array: ')\n",
        "print(x1)\n",
        "print('Two Dimensional Array: ')\n",
        "print(x2)\n",
        "print('Three Dimensional Array: ')\n",
        "print(x3)"
      ],
      "execution_count": null,
      "outputs": [
        {
          "output_type": "stream",
          "name": "stdout",
          "text": [
            "One-Dimensional Array: \n",
            "[0.77132064 0.02075195 0.63364823 0.74880388 0.49850701 0.22479665\n",
            " 0.19806286 0.76053071 0.16911084 0.08833981]\n",
            "Two Dimensional Array: \n",
            "[[0.77132064 0.02075195]\n",
            " [0.63364823 0.74880388]\n",
            " [0.49850701 0.22479665]\n",
            " [0.19806286 0.76053071]]\n",
            "Three Dimensional Array: \n",
            "[[[0.77132064 0.02075195]\n",
            "  [0.63364823 0.74880388]]\n",
            "\n",
            " [[0.49850701 0.22479665]\n",
            "  [0.19806286 0.76053071]]]\n"
          ]
        }
      ]
    },
    {
      "cell_type": "markdown",
      "metadata": {
        "id": "ifr91vJ7C8Jl"
      },
      "source": [
        "**2.B) Display:** \n",
        "\n",
        "**1. the ndim (Number of dimension)**\n",
        "\n",
        "**2. shape (Size of the each dimension)**\n",
        "\n",
        "**3. size (the total of the array)**"
      ]
    },
    {
      "cell_type": "code",
      "metadata": {
        "colab": {
          "base_uri": "https://localhost:8080/"
        },
        "id": "4YmDTTRpBVyg",
        "outputId": "93085371-4ede-42af-8536-74925c5637c0"
      },
      "source": [
        "print('Number of dimension of X1: ',x1.ndim)\n",
        "print('Number of dimension of X2: ',x2.ndim)\n",
        "print('Number of dimension of X3: ',x3.ndim)\n",
        "print('\\n')\n",
        "print('Number of Shape of X1: ',x1.shape)\n",
        "print('Number of Shape of X2: ',x2.shape)\n",
        "print('Number of Shape of X3: ',x3.shape)\n",
        "print('\\n')\n",
        "print('Number of Size of X1: ',x1.size)\n",
        "print('Number of Size of X2: ',x2.size)\n",
        "print('Number of Size of X3: ',x3.size)"
      ],
      "execution_count": null,
      "outputs": [
        {
          "output_type": "stream",
          "name": "stdout",
          "text": [
            "Number of dimension of X1:  1\n",
            "Number of dimension of X2:  2\n",
            "Number of dimension of X3:  3\n",
            "\n",
            "\n",
            "Number of Shape of X1:  (10,)\n",
            "Number of Shape of X2:  (4, 2)\n",
            "Number of Shape of X3:  (2, 2, 2)\n",
            "\n",
            "\n",
            "Number of Size of X1:  10\n",
            "Number of Size of X2:  8\n",
            "Number of Size of X3:  8\n"
          ]
        }
      ]
    },
    {
      "cell_type": "markdown",
      "metadata": {
        "id": "hn0dsaYuE3EH"
      },
      "source": [
        "**3) Create 2 numpy array named X and Y of integers using range(1-10) and (11-20) command. and create a new array Z by concatinate X and Y.**"
      ]
    },
    {
      "cell_type": "code",
      "metadata": {
        "colab": {
          "base_uri": "https://localhost:8080/"
        },
        "id": "oFhlCcLtEGVO",
        "outputId": "bb9501d0-f23a-47ff-cdef-01944e675ac4"
      },
      "source": [
        "X = np.arange(start=1, stop=10, step=3)\n",
        "Y = np.arange(start=11, stop=20, step=3)\n",
        "Z = X+Y\n",
        "print(X)\n",
        "print(Y)\n",
        "print(Z)"
      ],
      "execution_count": null,
      "outputs": [
        {
          "output_type": "stream",
          "name": "stdout",
          "text": [
            "[1 4 7]\n",
            "[11 14 17]\n",
            "[12 18 24]\n"
          ]
        }
      ]
    },
    {
      "cell_type": "markdown",
      "metadata": {
        "id": "AjJcPb7jGRXh"
      },
      "source": [
        "**4) Define a 2 dimensional (X2). Concatinate X2 and X2**"
      ]
    },
    {
      "cell_type": "code",
      "metadata": {
        "colab": {
          "base_uri": "https://localhost:8080/"
        },
        "id": "7rdeaILnGBI3",
        "outputId": "619e6bf3-5f77-46bb-a272-9add982266ff"
      },
      "source": [
        "X2 = [[1,2,3],[4,5,6]]\n",
        "X2 =X2 + X2\n",
        "print(X2)"
      ],
      "execution_count": null,
      "outputs": [
        {
          "output_type": "stream",
          "name": "stdout",
          "text": [
            "[[1, 2, 3], [4, 5, 6], [1, 2, 3], [4, 5, 6]]\n"
          ]
        }
      ]
    },
    {
      "cell_type": "markdown",
      "metadata": {
        "id": "PiT4b9Xe_T1H"
      },
      "source": [
        "**5) create a numpy array of named x range (1 - 10) and perform operations like   x+5, x-5, x/5, x*5, x^2, x%2, logx, log2x, log10x and compute some trigonometric function**b"
      ]
    },
    {
      "cell_type": "code",
      "metadata": {
        "colab": {
          "base_uri": "https://localhost:8080/"
        },
        "id": "bg-BGKFrGz4E",
        "outputId": "8e6fe259-5012-4ac9-e07b-7d6bfad69472"
      },
      "source": [
        "x6 = np.arange(1,10)\n",
        "print('Perform Operation x6 + 5:')\n",
        "print(x6+5)\n",
        "print('\\n')\n",
        "print('Perform Operation x6 - 5 ')\n",
        "print(x6-5)\n",
        "print('\\n')\n",
        "print('Perform Operation x6 / 5')\n",
        "print(x6/5)\n",
        "print('\\n')\n",
        "print('Perform Operation x6 * 5')\n",
        "print(x6*5)\n",
        "print('\\n')\n",
        "print('Perform Operation x6 ^ 2 ')\n",
        "print(x6^2)\n",
        "print('\\n')\n",
        "print('Perform Operation x6 % 2')\n",
        "print(x6%2)\n",
        "print('\\n')\n",
        "print('Perform Operation log(x) ')\n",
        "print(np.log(x6))\n",
        "print('\\n')\n",
        "print('Perform Operation log2(x) ')\n",
        "print(np.log2(x6))\n",
        "print('\\n')\n",
        "print('Perform Operation log10(x) ')\n",
        "print(np.log10(x6))\n",
        "print('\\n')\n",
        "print('Perform Operation sin(x) ')\n",
        "print(np.sin(x6))\n",
        "print('\\n')\n",
        "print('Perform Operation cos(x) ')\n",
        "print(np.cos(x6))\n",
        "print('\\n')\n",
        "print('Perform Operation log2(x) ')\n",
        "print(np.tan(x6))\n",
        "print('\\n')"
      ],
      "execution_count": null,
      "outputs": [
        {
          "output_type": "stream",
          "name": "stdout",
          "text": [
            "Perform Operation x6 + 5:\n",
            "[ 6  7  8  9 10 11 12 13 14]\n",
            "\n",
            "\n",
            "Perform Operation x6 - 5 \n",
            "[-4 -3 -2 -1  0  1  2  3  4]\n",
            "\n",
            "\n",
            "Perform Operation x6 / 5\n",
            "[0.2 0.4 0.6 0.8 1.  1.2 1.4 1.6 1.8]\n",
            "\n",
            "\n",
            "Perform Operation x6 * 5\n",
            "[ 5 10 15 20 25 30 35 40 45]\n",
            "\n",
            "\n",
            "Perform Operation x6 ^ 2 \n",
            "[ 3  0  1  6  7  4  5 10 11]\n",
            "\n",
            "\n",
            "Perform Operation x6 % 2\n",
            "[1 0 1 0 1 0 1 0 1]\n",
            "\n",
            "\n",
            "Perform Operation log(x) \n",
            "[0.         0.69314718 1.09861229 1.38629436 1.60943791 1.79175947\n",
            " 1.94591015 2.07944154 2.19722458]\n",
            "\n",
            "\n",
            "Perform Operation log2(x) \n",
            "[0.         1.         1.5849625  2.         2.32192809 2.5849625\n",
            " 2.80735492 3.         3.169925  ]\n",
            "\n",
            "\n",
            "Perform Operation log10(x) \n",
            "[0.         0.30103    0.47712125 0.60205999 0.69897    0.77815125\n",
            " 0.84509804 0.90308999 0.95424251]\n",
            "\n",
            "\n",
            "Perform Operation sin(x) \n",
            "[ 0.84147098  0.90929743  0.14112001 -0.7568025  -0.95892427 -0.2794155\n",
            "  0.6569866   0.98935825  0.41211849]\n",
            "\n",
            "\n",
            "Perform Operation cos(x) \n",
            "[ 0.54030231 -0.41614684 -0.9899925  -0.65364362  0.28366219  0.96017029\n",
            "  0.75390225 -0.14550003 -0.91113026]\n",
            "\n",
            "\n",
            "Perform Operation log2(x) \n",
            "[ 1.55740772 -2.18503986 -0.14254654  1.15782128 -3.38051501 -0.29100619\n",
            "  0.87144798 -6.79971146 -0.45231566]\n",
            "\n",
            "\n"
          ]
        }
      ]
    },
    {
      "cell_type": "code",
      "metadata": {
        "id": "cK5-2LF6Illd"
      },
      "source": [
        ""
      ],
      "execution_count": null,
      "outputs": []
    }
  ]
}