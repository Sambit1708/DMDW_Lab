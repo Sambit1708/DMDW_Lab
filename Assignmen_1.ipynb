{
  "nbformat": 4,
  "nbformat_minor": 0,
  "metadata": {
    "colab": {
      "name": "Assignmen-1.ipynb",
      "provenance": [],
      "collapsed_sections": [],
      "include_colab_link": true
    },
    "kernelspec": {
      "name": "python3",
      "display_name": "Python 3"
    },
    "language_info": {
      "name": "python"
    }
  },
  "cells": [
    {
      "cell_type": "markdown",
      "metadata": {
        "id": "view-in-github",
        "colab_type": "text"
      },
      "source": [
        "<a href=\"https://colab.research.google.com/github/Sambit1708/DMDW_Lab/blob/main/Assignmen_1.ipynb\" target=\"_parent\"><img src=\"https://colab.research.google.com/assets/colab-badge.svg\" alt=\"Open In Colab\"/></a>"
      ]
    },
    {
      "cell_type": "markdown",
      "metadata": {
        "id": "thZmqEk2YFnt"
      },
      "source": [
        "**Name:** Sambit Kumar Khandai\n",
        "\n",
        "**Roll_No:** 19CSE035\n",
        "\n",
        "**Sec:** C"
      ]
    },
    {
      "cell_type": "markdown",
      "metadata": {
        "id": "bxKb02hB4z5V"
      },
      "source": [
        "**Q1)** Create a list in python and find the mean and median of the list without using inbuilt function"
      ]
    },
    {
      "cell_type": "code",
      "metadata": {
        "colab": {
          "base_uri": "https://localhost:8080/"
        },
        "id": "DcRWxmnv1wa9",
        "outputId": "3a38cb38-76a4-440e-ddd8-aa41c6544594"
      },
      "source": [
        "li = [12, 35, 18, 9, 56, 24]\n",
        "sum=0\n",
        "for x in li:\n",
        "  sum += x\n",
        "mean = sum/len(li)\n",
        "print('Mean of list is:  ',  mean)\n",
        "median = 0\n",
        "if len(li) % 2 == 0:\n",
        "  m1 = li[len(li)//2]\n",
        "  m2 = li[len(li)//2 - 1]\n",
        "  median = (m1 + m2)/2\n",
        "\n",
        "else:\n",
        "  median = li[len(li)//2]\n",
        "\n",
        "print('Median of list is: ', median)\n"
      ],
      "execution_count": null,
      "outputs": [
        {
          "output_type": "stream",
          "name": "stdout",
          "text": [
            "Mean of list is:   25.666666666666668\n",
            "Median of list is:  13.5\n"
          ]
        }
      ]
    },
    {
      "cell_type": "markdown",
      "metadata": {
        "id": "jKmbOEwK51XI"
      },
      "source": [
        "**Q2)** Create a list in python. Find the mode of the list without using built-in funcion. "
      ]
    },
    {
      "cell_type": "code",
      "metadata": {
        "colab": {
          "base_uri": "https://localhost:8080/"
        },
        "id": "6jenl0MJ2XTp",
        "outputId": "4301e9bd-e201-4a98-82d5-d45e6e2c82b3"
      },
      "source": [
        "li = [2, 3, 1, 1, 6, 2, 5]\n",
        "freq = {}\n",
        "for x in li:\n",
        "  freq.setdefault(x, 0)\n",
        "  freq[x] += 1\n",
        "\n",
        "mode = [k for k, v in freq.items() if v == max(list(freq.values()))]\n",
        "if len(mode) == len(li):\n",
        "  print('No mode found')\n",
        "else:\n",
        "  print(mode)"
      ],
      "execution_count": null,
      "outputs": [
        {
          "output_type": "stream",
          "name": "stdout",
          "text": [
            "[2, 1]\n"
          ]
        }
      ]
    },
    {
      "cell_type": "markdown",
      "metadata": {
        "id": "A6deNW3kAXyo"
      },
      "source": [
        "**Q3)** Create a list in python . Find the second smallest no. & second highest number in the list."
      ]
    },
    {
      "cell_type": "code",
      "metadata": {
        "colab": {
          "base_uri": "https://localhost:8080/"
        },
        "id": "9ZY8UIrIAoCV",
        "outputId": "726a1a21-e410-4c54-d9ec-599710f15987"
      },
      "source": [
        "li = [12, 35, 18, 9, 56, 24]\n",
        "li.sort()\n",
        "print('Second Smallest number is: ', li[1])\n",
        "print('Second Highest number is: ',li[-2])"
      ],
      "execution_count": null,
      "outputs": [
        {
          "output_type": "stream",
          "name": "stdout",
          "text": [
            "Second Smallest number is:  12\n",
            "Second Highest number is:  35\n"
          ]
        }
      ]
    },
    {
      "cell_type": "code",
      "metadata": {
        "id": "i2n6PM6YBEwB"
      },
      "source": [
        ""
      ],
      "execution_count": null,
      "outputs": []
    },
    {
      "cell_type": "code",
      "metadata": {
        "id": "O0vgN0w4DNg6"
      },
      "source": [
        ""
      ],
      "execution_count": null,
      "outputs": []
    }
  ]
}